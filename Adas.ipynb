{
  "nbformat": 4,
  "nbformat_minor": 0,
  "metadata": {
    "colab": {
      "provenance": [],
      "gpuType": "T4",
      "include_colab_link": true
    },
    "kernelspec": {
      "name": "python3",
      "display_name": "Python 3"
    },
    "language_info": {
      "name": "python"
    },
    "accelerator": "GPU"
  },
  "cells": [
    {
      "cell_type": "markdown",
      "metadata": {
        "id": "view-in-github",
        "colab_type": "text"
      },
      "source": [
        "<a href=\"https://colab.research.google.com/github/Infraste03/ADAS-project/blob/main/Adas.ipynb\" target=\"_parent\"><img src=\"https://colab.research.google.com/assets/colab-badge.svg\" alt=\"Open In Colab\"/></a>"
      ]
    },
    {
      "cell_type": "code",
      "source": [
        "#estrazione del dataset .zip all'interno della cartella \"/content/immagini\" (da creare se non è presente)\n",
        "!unzip /content/Adas.v1i.darknet.zip -d /content/immagini"
      ],
      "metadata": {
        "id": "5Efp5Ff7BXRW"
      },
      "execution_count": null,
      "outputs": []
    },
    {
      "cell_type": "code",
      "source": [
        "#oppure\n",
        "#!pip install gdown #limitato a 50 file\n",
        "#!gdown https://drive.google.com/drive/folders/1SDDft_aq0bRDSd-WiqWrMkLDZBGJ1nFR?usp=share_link -O /content/dataset --folder"
      ],
      "metadata": {
        "id": "2J7Jos4UFHQL"
      },
      "execution_count": null,
      "outputs": []
    },
    {
      "cell_type": "code",
      "source": [
        "from google.colab import drive\n",
        "drive.mount('/content/drive')\n",
        "!ls \"/content/drive/My Drive/ADAS/\""
      ],
      "metadata": {
        "id": "V2-74V33Rspu"
      },
      "execution_count": null,
      "outputs": []
    },
    {
      "cell_type": "code",
      "source": [
        "pip install ultralytics"
      ],
      "metadata": {
        "id": "1GoMvn7ccg0R"
      },
      "execution_count": null,
      "outputs": []
    },
    {
      "cell_type": "code",
      "source": [
        "from ultralytics import YOLO\n",
        "\n",
        "model = YOLO('yolov8n.pt')\n",
        "model.predict(\n",
        "   source='https://media.roboflow.com/notebooks/examples/dog.jpeg',\n",
        "   conf=0.25,\n",
        "   project = 'prova',\n",
        "   name = 'img',\n",
        "   save = True\n",
        ")"
      ],
      "metadata": {
        "id": "xVs4UQfBczYZ"
      },
      "execution_count": null,
      "outputs": []
    },
    {
      "cell_type": "markdown",
      "source": [
        "**Dataset di 2333 immagini con dimensioni originali**"
      ],
      "metadata": {
        "id": "qD5jfMzI60KC"
      }
    },
    {
      "cell_type": "code",
      "source": [
        "!pip install roboflow\n",
        "\n",
        "from roboflow import Roboflow\n",
        "rf = Roboflow(api_key=\"ubr5j5XHO4Q0j9aadbpT\")\n",
        "project = rf.workspace(\"university-of-parma-mlgnl\").project(\"finaladas\")\n",
        "dataset = project.version(1).download(\"yolov8\")\n"
      ],
      "metadata": {
        "id": "qP249WUnidfE"
      },
      "execution_count": null,
      "outputs": []
    },
    {
      "cell_type": "code",
      "source": [
        "# N.B. all'interno del file data.yaml bisogna sostituire i percorsi con quelli attuali per train/images, test/images, valid/images"
      ],
      "metadata": {
        "id": "94fQfu6W6sjI"
      },
      "execution_count": null,
      "outputs": []
    },
    {
      "cell_type": "code",
      "source": [
        "model.train(data=\"/content/FinalAdas-1/data.yaml\", epochs=80, imgsz=1280, batch=8)#10 epochs completed in 0.313 hours ,imgsz=640"
      ],
      "metadata": {
        "id": "mjxI7KzBnTUo"
      },
      "execution_count": null,
      "outputs": []
    },
    {
      "cell_type": "code",
      "source": [
        "model = YOLO('/content/best.pt')\n",
        "model.val(data='/content/FinalAdas-1/data.yaml',save_json=True)"
      ],
      "metadata": {
        "id": "fo2TQEa9URR9"
      },
      "execution_count": null,
      "outputs": []
    },
    {
      "cell_type": "markdown",
      "source": [
        "**Dataset di 2333 immagini con dimensioni 640x640**"
      ],
      "metadata": {
        "id": "wP7veQm47BTo"
      }
    },
    {
      "cell_type": "code",
      "source": [
        "!pip install roboflow\n",
        "\n",
        "from roboflow import Roboflow\n",
        "rf = Roboflow(api_key=\"ubr5j5XHO4Q0j9aadbpT\")\n",
        "project = rf.workspace(\"university-of-parma-mlgnl\").project(\"finaladas\")\n",
        "dataset = project.version(2).download(\"yolov8\")"
      ],
      "metadata": {
        "id": "PmDDeZutoXEp"
      },
      "execution_count": null,
      "outputs": []
    },
    {
      "cell_type": "code",
      "source": [
        "# N.B. all'interno del file data.yaml bisogna sostituire i percorsi con quelli attuali per train/images, test/images, valid/images"
      ],
      "metadata": {
        "id": "GJDCuYwV7gog"
      },
      "execution_count": null,
      "outputs": []
    },
    {
      "cell_type": "code",
      "source": [
        "model.train(data=\"/content/FinalAdas-2/data.yaml\", epochs=50)#10 epochs completed in 0.313 hours ,imgsz=640"
      ],
      "metadata": {
        "id": "dRyulJasoj53"
      },
      "execution_count": null,
      "outputs": []
    },
    {
      "cell_type": "code",
      "source": [
        "model = YOLO('/content/best_640.pt')\n",
        "model.val(data='/content/FinalAdas-2/data.yaml')"
      ],
      "metadata": {
        "id": "UfhvLxx6hQOs"
      },
      "execution_count": null,
      "outputs": []
    },
    {
      "cell_type": "markdown",
      "source": [
        "**Dataset di 3319 immagini con dimensioni 640x640**"
      ],
      "metadata": {
        "id": "lLOFLy2l7VlZ"
      }
    },
    {
      "cell_type": "code",
      "source": [
        "!pip install roboflow\n",
        "\n",
        "from roboflow import Roboflow\n",
        "rf = Roboflow(api_key=\"ubr5j5XHO4Q0j9aadbpT\")\n",
        "project = rf.workspace(\"university-of-parma-mlgnl\").project(\"finaladas\")\n",
        "dataset = project.version(3).download(\"yolov8\")"
      ],
      "metadata": {
        "id": "PuKi__0f7RxZ"
      },
      "execution_count": null,
      "outputs": []
    },
    {
      "cell_type": "code",
      "source": [
        "# N.B. all'interno del file data.yaml bisogna sostituire i percorsi con quelli attuali per train/images, test/images, valid/images"
      ],
      "metadata": {
        "id": "1krnMh-PYWzK"
      },
      "execution_count": null,
      "outputs": []
    },
    {
      "cell_type": "code",
      "source": [
        "pip install tensorboard"
      ],
      "metadata": {
        "id": "20LDIkMoFrM7"
      },
      "execution_count": null,
      "outputs": []
    },
    {
      "cell_type": "code",
      "source": [
        "!load_ext tensorboard\n",
        "!tensorboard --logdir '/content/runs'"
      ],
      "metadata": {
        "id": "b31KYyzkE9vG"
      },
      "execution_count": null,
      "outputs": []
    },
    {
      "cell_type": "code",
      "source": [
        "model.train(data=\"/content/FinalAdas-3/data.yaml\", epochs=80)#10 epochs completed in 0.313 hours ,imgsz=640, resume permette di ripartire da last.pt se interrotto"
      ],
      "metadata": {
        "id": "V9T2snrxpW45"
      },
      "execution_count": null,
      "outputs": []
    },
    {
      "cell_type": "code",
      "source": [
        "model.train(data=\"/content/FinalAdas-3/data.yaml\", epochs=80,batch=8)#10 epochs completed in 0.313 hours ,imgsz=640, resume permette di ripartire da last.pt se interrotto"
      ],
      "metadata": {
        "id": "XXj89jQCzInX"
      },
      "execution_count": null,
      "outputs": []
    },
    {
      "cell_type": "code",
      "source": [],
      "metadata": {
        "id": "ixBtNwcYhOoA"
      },
      "execution_count": null,
      "outputs": []
    },
    {
      "cell_type": "code",
      "source": [
        "model = YOLO('/content/runs/detect/train/weights/best.pt')\n",
        "model.predict(\n",
        "   source='/content/frame000009_chunk_33-35.png',\n",
        "   conf=0.25,\n",
        "   project = 'prova',\n",
        "   name = 'img',\n",
        "   save = True,\n",
        "   show_labels=False\n",
        ")"
      ],
      "metadata": {
        "id": "H1cKiLa7T9-K"
      },
      "execution_count": null,
      "outputs": []
    },
    {
      "cell_type": "code",
      "source": [
        "from ultralytics import YOLO\n",
        "\n",
        "model = YOLO('yolov8n.pt')\n",
        "model.predict(\n",
        "   source='https://media.roboflow.com/notebooks/examples/dog.jpeg',\n",
        "   conf=0.25,\n",
        "   project = 'prova',\n",
        "   name = 'img',\n",
        "   save = True\n",
        ")"
      ],
      "metadata": {
        "id": "lQ-_BO7ddEzB"
      },
      "execution_count": null,
      "outputs": []
    },
    {
      "cell_type": "code",
      "source": [
        "!cp -r /content/runs/detect/train /content/drive/MyDrive/ADAS/train_1280_80_2333_batch_8/"
      ],
      "metadata": {
        "id": "DmfE2uF1_ojP"
      },
      "execution_count": null,
      "outputs": []
    },
    {
      "cell_type": "code",
      "source": [
        "!cp -r /content/prova/img5/frame000009_chunk_33-35.png /content/drive/MyDrive/ADAS/train_1280_80_2333_batch_8/"
      ],
      "metadata": {
        "id": "Ky1D_zN4DTWx"
      },
      "execution_count": null,
      "outputs": []
    },
    {
      "cell_type": "code",
      "source": [
        "import locale #N.B. quando da errore A UTF-8 locale is required. Got ANSI_X3.4-1968\n",
        "locale.getpreferredencoding = lambda: \"UTF-8\""
      ],
      "metadata": {
        "id": "GU1h-t0TBcQ_"
      },
      "execution_count": null,
      "outputs": []
    },
    {
      "cell_type": "code",
      "source": [
        "import cv2\n",
        "from ultralytics import YOLO\n",
        "\n",
        "# Load the YOLOv8 model\n",
        "#\"C:\\Users\\fstef\\Desktop\\best.pt\"\n",
        "model = YOLO('C:/Users/fstef/Desktop/best.pt')\n",
        "\n",
        "# Open the video file\n",
        "#\"C:\\Users\\fstef\\Desktop\\ch0_strm0_eng0_time2023-12-16_11-15-35.mp4\"\n",
        "video_path = \"C:/Users/fstef/Desktop/ch0_strm0_eng0_time2023-12-16_11-15-35.mp4\"\n",
        "cap = cv2.VideoCapture(video_path)\n",
        "\n",
        "# Loop through the video frames\n",
        "while cap.isOpened():\n",
        "    # Read a frame from the videopi\n",
        "    success, frame = cap.read()\n",
        "\n",
        "    if success:\n",
        "        # Run YOLOv8 tracking on the frame, persisting tracks between frames\n",
        "        print(\"YOLOv8 tracking\")\n",
        "        results = model.track(frame, persist=True)\n",
        "\n",
        "        # Visualize the results on the frame\n",
        "        annotated_frame = results[0].plot()\n",
        "\n",
        "        # Display the annotated frame\n",
        "        cv2.imshow(\"YOLOv8 Tracking\", annotated_frame)\n",
        "\n",
        "        # Break the loop if 'q' is pressed\n",
        "        if cv2.waitKey(1) & 0xFF == ord(\"q\"):\n",
        "            break\n",
        "    else:\n",
        "        # Break the loop if the end of the video is reached\n",
        "        break\n",
        "\n",
        "# Release the video capture object and close the display window\n",
        "cap.release()\n",
        "cv2.destroyAllWindows()"
      ],
      "metadata": {
        "id": "81xtp9M5l-jC"
      },
      "execution_count": null,
      "outputs": []
    }
  ]
}